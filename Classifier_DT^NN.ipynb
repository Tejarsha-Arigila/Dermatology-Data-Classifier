{
 "cells": [
  {
   "cell_type": "markdown",
   "metadata": {},
   "source": [
    "# Importing Required Libraries #"
   ]
  },
  {
   "cell_type": "code",
   "execution_count": 1,
   "metadata": {},
   "outputs": [],
   "source": [
    "import pandas as pd\n",
    "from sklearn.model_selection import train_test_split\n",
    "from sklearn.tree import DecisionTreeClassifier\n",
    "from sklearn.metrics import accuracy_score, precision_score, recall_score, f1_score, confusion_matrix\n",
    "from sklearn.neural_network import MLPClassifier"
   ]
  },
  {
   "cell_type": "markdown",
   "metadata": {},
   "source": [
    "# Data Ingestion and Pre-processing #"
   ]
  },
  {
   "cell_type": "code",
   "execution_count": 2,
   "metadata": {},
   "outputs": [],
   "source": [
    "# Load the data from the URL\n",
    "url = \"https://archive.ics.uci.edu/ml/machine-learning-databases/dermatology/dermatology.data\"\n",
    "names = [\"erythema\", \"scaling\", \"definite borders\", \"itching\", \"koebner phenomenon\", \"polygonal papules\", \"follicular papules\", \"oral mucosal involvement\", \"knee and elbow involvement\", \"scalp involvement\", \"family history\", \"melanin incontinence\", \"eosinophils in the infiltrate\", \"PNL infiltrate\", \"fibrosis of the papillary dermis\", \"exocytosis\", \"acanthosis\", \"hyperkeratosis\", \"parakeratosis\", \"clubbing of the rete ridges\", \"elongation of the rete ridges\", \"thinning of the suprapapillary epidermis\", \"spongiform pustule\", \"munro microabcess\", \"focal hypergranulosis\", \"disappearance of the granular layer\", \"vacuolisation and damage of basal layer\", \"spongiosis\", \"saw-tooth appearance of retes\", \"follicular horn plug\", \"perifollicular parakeratosis\", \"inflammatory monoluclear inflitrate\", \"band-like infiltrate\", \"Age\", \"Class\"]\n",
    "df = pd.read_csv(url, names=names)\n",
    "\n",
    "# Convert all non-numeric columns to numeric\n",
    "for col in df.columns:\n",
    "    df[col] = pd.to_numeric(df[col], errors='coerce')\n",
    "df = df.dropna()\n",
    "\n",
    "# Separate features and target\n",
    "X = df.iloc[:, :-1]\n",
    "y = df.iloc[:, -1]"
   ]
  },
  {
   "cell_type": "markdown",
   "metadata": {},
   "source": [
    "# Decision Tree classifier to classify dermatology data #"
   ]
  },
  {
   "cell_type": "code",
   "execution_count": 3,
   "metadata": {},
   "outputs": [
    {
     "name": "stdout",
     "output_type": "stream",
     "text": [
      "**------Decision Tree Classification------**\n",
      "\n",
      "Accuracy: 0.9444444444444444\n",
      "\n",
      "Precision: 0.9493708452041785\n",
      "\n",
      "Recall: 0.9444444444444444\n",
      "\n",
      "F1 Score: 0.9420941911592665\n",
      "\n",
      "Confusion Matrix:\n",
      "[[22  0  0  0  0  0]\n",
      " [ 1 12  0  1  0  0]\n",
      " [ 0  0 13  0  1  0]\n",
      " [ 0  0  0  8  0  0]\n",
      " [ 0  0  0  0 12  0]\n",
      " [ 1  0  0  0  0  1]]\n",
      "\n",
      "**---------------------------------------**\n"
     ]
    }
   ],
   "source": [
    "# Split the data into training and testing sets\n",
    "X_train, X_test, y_train, y_test = train_test_split(X, y, test_size=0.2, random_state=42)\n",
    "\n",
    "# Create and fit a decision tree classifier\n",
    "clf = DecisionTreeClassifier(random_state=42)\n",
    "clf.fit(X_train, y_train)\n",
    "\n",
    "# Predict the labels of the test set\n",
    "y_pred = clf.predict(X_test)\n",
    "\n",
    "# Calculate the evaluation metrics\n",
    "accuracy = accuracy_score(y_test, y_pred)\n",
    "precision = precision_score(y_test, y_pred, average='weighted')\n",
    "recall = recall_score(y_test, y_pred, average='weighted')\n",
    "f1 = f1_score(y_test, y_pred, average='weighted')\n",
    "conf_matrix = confusion_matrix(y_test, y_pred)\n",
    "\n",
    "# Print the evaluation metrics\n",
    "print(\"**------Decision Tree Classification------**\")\n",
    "print(\"\\nAccuracy:\", accuracy)\n",
    "print(\"\\nPrecision:\", precision)\n",
    "print(\"\\nRecall:\", recall)\n",
    "print(\"\\nF1 Score:\", f1)\n",
    "print(\"\\nConfusion Matrix:\")\n",
    "print(conf_matrix)\n",
    "print(\"\\n**---------------------------------------**\")"
   ]
  },
  {
   "cell_type": "markdown",
   "metadata": {},
   "source": [
    "# Neural Net classifier to classify dermatology data #"
   ]
  },
  {
   "cell_type": "code",
   "execution_count": 4,
   "metadata": {},
   "outputs": [
    {
     "name": "stdout",
     "output_type": "stream",
     "text": [
      "**------Neural Network Classification------**\n",
      "\n",
      "Accuracy: 0.9722222222222222\n",
      "\n",
      "Precision: 0.9666666666666667\n",
      "\n",
      "Recall: 0.9805194805194805\n",
      "\n",
      "F1-score: 0.9714326729830605\n",
      "\n",
      "Confusion Matrix:\n",
      "[[21  0  0  1  0  0]\n",
      " [ 0 14  0  0  0  0]\n",
      " [ 0  0 13  1  0  0]\n",
      " [ 0  0  0  8  0  0]\n",
      " [ 0  0  0  0 12  0]\n",
      " [ 0  0  0  0  0  2]]\n",
      "\n",
      "**---------------------------------------**\n"
     ]
    }
   ],
   "source": [
    "# Split the data into training and testing sets\n",
    "X_train1, X_test1, y_train1, y_test1 = train_test_split(X, y, test_size=0.2, random_state=42)\n",
    "\n",
    "# Create and fit a neural network classifier\n",
    "clf = MLPClassifier(hidden_layer_sizes=(30,), activation='relu', solver='adam', max_iter=550, random_state=42)\n",
    "clf.fit(X_train1, y_train1)\n",
    " \n",
    "# Predict the labels of the test set\n",
    "y_pred1 = clf.predict(X_test1)\n",
    "\n",
    "# Calculate the evaluation metrics of the model\n",
    "accuracy1 = accuracy_score(y_test1, y_pred1)\n",
    "precision1 = precision_score(y_test1, y_pred1, average='macro')\n",
    "recall1 = recall_score(y_test1, y_pred1, average='macro')\n",
    "f11 = f1_score(y_test1, y_pred1, average='macro')\n",
    "conf_matrix1 = confusion_matrix(y_test1, y_pred1)\n",
    "\n",
    "print(\"**------Neural Network Classification------**\")\n",
    "print(\"\\nAccuracy:\", accuracy1)\n",
    "print(\"\\nPrecision:\", precision1)\n",
    "print(\"\\nRecall:\", recall1)\n",
    "print(\"\\nF1-score:\", f11)\n",
    "print(\"\\nConfusion Matrix:\")\n",
    "print(conf_matrix1)\n",
    "print(\"\\n**---------------------------------------**\")"
   ]
  },
 ],
 "metadata": {
  "kernelspec": {
   "display_name": "Python 3 (ipykernel)",
   "language": "python",
   "name": "python3"
  },
  "language_info": {
   "codemirror_mode": {
    "name": "ipython",
    "version": 3
   },
   "file_extension": ".py",
   "mimetype": "text/x-python",
   "name": "python",
   "nbconvert_exporter": "python",
   "pygments_lexer": "ipython3",
   "version": "3.9.13"
  },
  "vscode": {
   "interpreter": {
    "hash": "a665b5d41d17b532ea9890333293a1b812fa0b73c9c25c950b3cedf1bebd0438"
   }
  }
 },
 "nbformat": 4,
 "nbformat_minor": 2
}
